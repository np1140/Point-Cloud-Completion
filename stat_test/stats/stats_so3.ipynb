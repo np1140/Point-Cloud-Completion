{
 "cells": [
  {
   "cell_type": "code",
   "execution_count": 3,
   "metadata": {},
   "outputs": [],
   "source": [
    "import pandas as pd"
   ]
  },
  {
   "cell_type": "code",
   "execution_count": 8,
   "metadata": {},
   "outputs": [
    {
     "name": "stdout",
     "output_type": "stream",
     "text": [
      "F-score: 0.07 ± 0.01\n",
      "CDl1: 22.91 ± 1.56\n",
      "CDl2: 1.31 ± 0.33\n",
      "EMD: 0.00 ± 0.00\n"
     ]
    }
   ],
   "source": [
    "file_path = \"pcn_easy.csv\"\n",
    "data = pd.read_csv(file_path)\n",
    "mean_values = data.mean()\n",
    "std_dev_values = data.std()\n",
    "\n",
    "for column in data.columns:\n",
    "    print(f\"{column}: {mean_values[column]:.2f} ± {std_dev_values[column]:.2f}\")"
   ]
  },
  {
   "cell_type": "code",
   "execution_count": 24,
   "metadata": {},
   "outputs": [
    {
     "name": "stdout",
     "output_type": "stream",
     "text": [
      "F-score: 0.06 ± 0.01\n",
      "CDl1: 24.67 ± 1.49\n",
      "CDl2: 1.59 ± 0.38\n",
      "EMD: 0.00 ± 0.00\n"
     ]
    }
   ],
   "source": [
    "file_path = \"PCN_easy_so3_z_z.csv\"\n",
    "data = pd.read_csv(file_path)\n",
    "mean_values = data.mean()\n",
    "std_dev_values = data.std()\n",
    "\n",
    "for column in data.columns:\n",
    "    print(f\"{column}: {mean_values[column]:.2f} ± {std_dev_values[column]:.2f}\")"
   ]
  },
  {
   "cell_type": "code",
   "execution_count": 25,
   "metadata": {},
   "outputs": [
    {
     "name": "stdout",
     "output_type": "stream",
     "text": [
      "F-score: 0.04 ± 0.01\n",
      "CDl1: 63.21 ± 16.80\n",
      "CDl2: 20.53 ± 11.22\n",
      "EMD: 0.00 ± 0.00\n"
     ]
    }
   ],
   "source": [
    "file_path = \"PCN_easyso3_z_so3.csv\"\n",
    "data = pd.read_csv(file_path)\n",
    "mean_values = data.mean()\n",
    "std_dev_values = data.std()\n",
    "\n",
    "for column in data.columns:\n",
    "    print(f\"{column}: {mean_values[column]:.2f} ± {std_dev_values[column]:.2f}\")"
   ]
  },
  {
   "cell_type": "code",
   "execution_count": 11,
   "metadata": {},
   "outputs": [
    {
     "name": "stdout",
     "output_type": "stream",
     "text": [
      "F-score: 0.04 ± 0.00\n",
      "CDl1: 32.47 ± 3.59\n",
      "CDl2: 3.39 ± 1.14\n",
      "EMD: 0.00 ± 0.00\n"
     ]
    }
   ],
   "source": [
    "file_path = \"PCN_easy_Noise_0.1.csv\"\n",
    "data = pd.read_csv(file_path)\n",
    "mean_values = data.mean()\n",
    "std_dev_values = data.std()\n",
    "\n",
    "for column in data.columns:\n",
    "    print(f\"{column}: {mean_values[column]:.2f} ± {std_dev_values[column]:.2f}\")"
   ]
  },
  {
   "cell_type": "code",
   "execution_count": 12,
   "metadata": {},
   "outputs": [
    {
     "name": "stdout",
     "output_type": "stream",
     "text": [
      "F-score: 0.03 ± 0.00\n",
      "CDl1: 42.20 ± 6.83\n",
      "CDl2: 6.89 ± 3.04\n",
      "EMD: 0.00 ± 0.00\n"
     ]
    }
   ],
   "source": [
    "file_path = \"PCN_easy_Noise_0.2.csv\"\n",
    "data = pd.read_csv(file_path)\n",
    "mean_values = data.mean()\n",
    "std_dev_values = data.std()\n",
    "\n",
    "for column in data.columns:\n",
    "    print(f\"{column}: {mean_values[column]:.2f} ± {std_dev_values[column]:.2f}\")"
   ]
  },
  {
   "cell_type": "code",
   "execution_count": 4,
   "metadata": {},
   "outputs": [
    {
     "name": "stdout",
     "output_type": "stream",
     "text": [
      "CDl2: 0.68 ± 0.12\n",
      "CDl1: 9.35 ± 2.36\n",
      "F-score: 0.44 ± 0.13\n",
      "EMD: 0.00 ± 0.00\n"
     ]
    }
   ],
   "source": [
    "file_path = \"AdaPointr_easy.csv\"\n",
    "data = pd.read_csv(file_path)\n",
    "mean_values = data.mean()\n",
    "std_dev_values = data.std()\n",
    "\n",
    "for column in data.columns:\n",
    "    print(f\"{column}: {mean_values[column]:.2f} ± {std_dev_values[column]:.2f}\")"
   ]
  },
  {
   "cell_type": "code",
   "execution_count": 8,
   "metadata": {},
   "outputs": [
    {
     "name": "stdout",
     "output_type": "stream",
     "text": [
      "F-score: 0.17 ± 0.01\n",
      "CDl1: 19.12 ± 0.95\n",
      "CDl2: 0.99 ± 0.14\n",
      "EMD: 0.00 ± 0.00\n"
     ]
    }
   ],
   "source": [
    "file_path = \"AdaPointr_easy_so3_dgcnn_z_z.csv\"\n",
    "data = pd.read_csv(file_path)\n",
    "mean_values = data.mean()\n",
    "std_dev_values = data.std()\n",
    "\n",
    "for column in data.columns:\n",
    "    print(f\"{column}: {mean_values[column]:.2f} ± {std_dev_values[column]:.2f}\")"
   ]
  },
  {
   "cell_type": "code",
   "execution_count": 7,
   "metadata": {},
   "outputs": [
    {
     "name": "stdout",
     "output_type": "stream",
     "text": [
      "F-score: 0.11 ± 0.01\n",
      "CDl1: 28.57 ± 4.47\n",
      "CDl2: 3.78 ± 2.24\n",
      "EMD: 0.00 ± 0.00\n"
     ]
    }
   ],
   "source": [
    "file_path = \"AdaPointr_easy_so3_dgcnn_z_so3.csv\"\n",
    "data = pd.read_csv(file_path)\n",
    "mean_values = data.mean()\n",
    "std_dev_values = data.std()\n",
    "\n",
    "for column in data.columns:\n",
    "    print(f\"{column}: {mean_values[column]:.2f} ± {std_dev_values[column]:.2f}\")"
   ]
  },
  {
   "cell_type": "code",
   "execution_count": 6,
   "metadata": {},
   "outputs": [
    {
     "name": "stdout",
     "output_type": "stream",
     "text": [
      "F-score: 0.14 ± 0.01\n",
      "CDl1: 20.77 ± 1.00\n",
      "CDl2: 1.18 ± 0.19\n",
      "EMD: 0.00 ± 0.00\n"
     ]
    }
   ],
   "source": [
    "file_path = \"AdaPointr_easy_so3_dgcnn_so3_so3.csv\"\n",
    "data = pd.read_csv(file_path)\n",
    "mean_values = data.mean()\n",
    "std_dev_values = data.std()\n",
    "\n",
    "for column in data.columns:\n",
    "    print(f\"{column}: {mean_values[column]:.2f} ± {std_dev_values[column]:.2f}\")"
   ]
  },
  {
   "cell_type": "code",
   "execution_count": 9,
   "metadata": {},
   "outputs": [
    {
     "name": "stdout",
     "output_type": "stream",
     "text": [
      "F-score: 0.28 ± 0.01\n",
      "CDl1: 18.63 ± 0.89\n",
      "CDl2: 1.13 ± 0.19\n",
      "EMD: 0.00 ± 0.00\n"
     ]
    }
   ],
   "source": [
    "file_path = \"Pointr_easy.csv\"\n",
    "data = pd.read_csv(file_path)\n",
    "mean_values = data.mean()\n",
    "std_dev_values = data.std()\n",
    "\n",
    "for column in data.columns:\n",
    "    print(f\"{column}: {mean_values[column]:.2f} ± {std_dev_values[column]:.2f}\")"
   ]
  },
  {
   "cell_type": "code",
   "execution_count": 10,
   "metadata": {},
   "outputs": [
    {
     "name": "stdout",
     "output_type": "stream",
     "text": [
      "F-score: 0.28 ± 0.01\n",
      "CDl1: 19.45 ± 1.01\n",
      "CDl2: 1.28 ± 0.26\n",
      "EMD: 0.00 ± 0.00\n"
     ]
    }
   ],
   "source": [
    "file_path = \"Pointr_easy_so3_dgcnn_Z.csv\"\n",
    "data = pd.read_csv(file_path)\n",
    "mean_values = data.mean()\n",
    "std_dev_values = data.std()\n",
    "\n",
    "for column in data.columns:\n",
    "    print(f\"{column}: {mean_values[column]:.2f} ± {std_dev_values[column]:.2f}\")"
   ]
  },
  {
   "cell_type": "code",
   "execution_count": 11,
   "metadata": {},
   "outputs": [
    {
     "name": "stdout",
     "output_type": "stream",
     "text": [
      "F-score: 0.27 ± 0.01\n",
      "CDl1: 29.39 ± 4.88\n",
      "CDl2: 5.54 ± 2.80\n",
      "EMD: 0.00 ± 0.00\n"
     ]
    }
   ],
   "source": [
    "file_path = \"Pointr_easy_so3_dgcnn_so3.csv\"\n",
    "data = pd.read_csv(file_path)\n",
    "mean_values = data.mean()\n",
    "std_dev_values = data.std()\n",
    "\n",
    "for column in data.columns:\n",
    "    print(f\"{column}: {mean_values[column]:.2f} ± {std_dev_values[column]:.2f}\")"
   ]
  },
  {
   "cell_type": "code",
   "execution_count": 12,
   "metadata": {},
   "outputs": [
    {
     "name": "stdout",
     "output_type": "stream",
     "text": [
      "F-score: 0.27 ± 0.01\n",
      "CDl1: 21.27 ± 1.38\n",
      "CDl2: 1.74 ± 0.47\n",
      "EMD: 0.00 ± 0.00\n"
     ]
    }
   ],
   "source": [
    "file_path = \"Pointr_easy_so3_dgcnn_so3_so3.csv\"\n",
    "data = pd.read_csv(file_path)\n",
    "mean_values = data.mean()\n",
    "std_dev_values = data.std()\n",
    "\n",
    "for column in data.columns:\n",
    "    print(f\"{column}: {mean_values[column]:.2f} ± {std_dev_values[column]:.2f}\")"
   ]
  },
  {
   "cell_type": "code",
   "execution_count": 26,
   "metadata": {},
   "outputs": [
    {
     "name": "stdout",
     "output_type": "stream",
     "text": [
      "F-score: 0.04 ± 0.01\n",
      "CDl1: 77.07 ± 6.55\n",
      "CDl2: 24.01 ± 4.72\n",
      "EMD: 0.00 ± 0.00\n"
     ]
    }
   ],
   "source": [
    "file_path = \"FoldingNet_easy.csv\"\n",
    "data = pd.read_csv(file_path)\n",
    "mean_values = data.mean()\n",
    "std_dev_values = data.std()\n",
    "\n",
    "for column in data.columns:\n",
    "    print(f\"{column}: {mean_values[column]:.2f} ± {std_dev_values[column]:.2f}\")"
   ]
  },
  {
   "cell_type": "code",
   "execution_count": 27,
   "metadata": {},
   "outputs": [
    {
     "name": "stdout",
     "output_type": "stream",
     "text": [
      "F-score: 0.03 ± 0.00\n",
      "CDl1: 90.91 ± 7.46\n",
      "CDl2: 33.47 ± 6.19\n",
      "EMD: 0.00 ± 0.00\n"
     ]
    }
   ],
   "source": [
    "file_path = \"FoldingNet_easy_so3_z_z.csv\"\n",
    "data = pd.read_csv(file_path)\n",
    "mean_values = data.mean()\n",
    "std_dev_values = data.std()\n",
    "\n",
    "for column in data.columns:\n",
    "    print(f\"{column}: {mean_values[column]:.2f} ± {std_dev_values[column]:.2f}\")"
   ]
  },
  {
   "cell_type": "code",
   "execution_count": 28,
   "metadata": {},
   "outputs": [
    {
     "name": "stdout",
     "output_type": "stream",
     "text": [
      "F-score: 0.02 ± 0.01\n",
      "CDl1: 174.10 ± 53.38\n",
      "CDl2: 127.63 ± 70.97\n",
      "EMD: 0.00 ± 0.00\n"
     ]
    }
   ],
   "source": [
    "file_path = \"FoldingNet_easy_so3_z_so3.csv\"\n",
    "data = pd.read_csv(file_path)\n",
    "mean_values = data.mean()\n",
    "std_dev_values = data.std()\n",
    "\n",
    "for column in data.columns:\n",
    "    print(f\"{column}: {mean_values[column]:.2f} ± {std_dev_values[column]:.2f}\")"
   ]
  },
  {
   "cell_type": "code",
   "execution_count": 25,
   "metadata": {},
   "outputs": [
    {
     "name": "stdout",
     "output_type": "stream",
     "text": [
      "F-score: 0.03 ± 0.01\n",
      "CDl1: 94.07 ± 15.37\n",
      "CDl2: 36.58 ± 11.87\n",
      "EMD: 0.00 ± 0.00\n"
     ]
    }
   ],
   "source": [
    "file_path = \"FoldingNet_easy_Noise_0.1.csv\"\n",
    "data = pd.read_csv(file_path)\n",
    "mean_values = data.mean()\n",
    "std_dev_values = data.std()\n",
    "\n",
    "for column in data.columns:\n",
    "    print(f\"{column}: {mean_values[column]:.2f} ± {std_dev_values[column]:.2f}\")"
   ]
  },
  {
   "cell_type": "code",
   "execution_count": 26,
   "metadata": {},
   "outputs": [
    {
     "name": "stdout",
     "output_type": "stream",
     "text": [
      "F-score: 0.03 ± 0.01\n",
      "CDl1: 122.63 ± 30.84\n",
      "CDl2: 61.95 ± 28.06\n",
      "EMD: 0.00 ± 0.00\n"
     ]
    }
   ],
   "source": [
    "file_path = \"FoldingNet_easy_Noise_0.2.csv\"\n",
    "data = pd.read_csv(file_path)\n",
    "mean_values = data.mean()\n",
    "std_dev_values = data.std()\n",
    "\n",
    "for column in data.columns:\n",
    "    print(f\"{column}: {mean_values[column]:.2f} ± {std_dev_values[column]:.2f}\")"
   ]
  },
  {
   "cell_type": "code",
   "execution_count": 31,
   "metadata": {},
   "outputs": [
    {
     "name": "stdout",
     "output_type": "stream",
     "text": [
      "F-score: 0.07 ± 0.01\n",
      "CDl1: 23.15 ± 1.45\n",
      "CDl2: 1.33 ± 0.27\n",
      "EMD: 0.00 ± 0.00\n"
     ]
    }
   ],
   "source": [
    "file_path = \"grNet_easy.csv\"\n",
    "data = pd.read_csv(file_path)\n",
    "mean_values = data.mean()\n",
    "std_dev_values = data.std()\n",
    "\n",
    "for column in data.columns:\n",
    "    print(f\"{column}: {mean_values[column]:.2f} ± {std_dev_values[column]:.2f}\")"
   ]
  },
  {
   "cell_type": "code",
   "execution_count": 13,
   "metadata": {},
   "outputs": [
    {
     "name": "stdout",
     "output_type": "stream",
     "text": [
      "F-score: 0.05 ± 0.01\n",
      "CDl1: 25.64 ± 0.98\n",
      "CDl2: 1.68 ± 0.22\n",
      "EMD: 0.00 ± 0.00\n"
     ]
    }
   ],
   "source": [
    "file_path = \"GRNet_easy_so3_z_z.csv\"\n",
    "data = pd.read_csv(file_path)\n",
    "mean_values = data.mean()\n",
    "std_dev_values = data.std()\n",
    "\n",
    "for column in data.columns:\n",
    "    print(f\"{column}: {mean_values[column]:.2f} ± {std_dev_values[column]:.2f}\")"
   ]
  },
  {
   "cell_type": "code",
   "execution_count": 14,
   "metadata": {},
   "outputs": [
    {
     "name": "stdout",
     "output_type": "stream",
     "text": [
      "F-score: 0.04 ± 0.01\n",
      "CDl1: 37.14 ± 4.76\n",
      "CDl2: 5.78 ± 2.38\n",
      "EMD: 0.00 ± 0.00\n"
     ]
    }
   ],
   "source": [
    "file_path = \"GRNet_easy_so3_z_so3.csv\"\n",
    "data = pd.read_csv(file_path)\n",
    "mean_values = data.mean()\n",
    "std_dev_values = data.std()\n",
    "\n",
    "for column in data.columns:\n",
    "    print(f\"{column}: {mean_values[column]:.2f} ± {std_dev_values[column]:.2f}\")"
   ]
  },
  {
   "cell_type": "code",
   "execution_count": 15,
   "metadata": {},
   "outputs": [
    {
     "name": "stdout",
     "output_type": "stream",
     "text": [
      "F-score: 0.06 ± 0.01\n",
      "CDl1: 27.27 ± 2.53\n",
      "CDl2: 2.04 ± 0.55\n",
      "EMD: 0.00 ± 0.00\n"
     ]
    }
   ],
   "source": [
    "file_path = \"GrNet_easy_Noise_0.1.csv\"\n",
    "data = pd.read_csv(file_path)\n",
    "mean_values = data.mean()\n",
    "std_dev_values = data.std()\n",
    "\n",
    "for column in data.columns:\n",
    "    print(f\"{column}: {mean_values[column]:.2f} ± {std_dev_values[column]:.2f}\")"
   ]
  },
  {
   "cell_type": "code",
   "execution_count": 30,
   "metadata": {},
   "outputs": [
    {
     "name": "stdout",
     "output_type": "stream",
     "text": [
      "F-score: 0.05 ± 0.01\n",
      "CDl1: 31.25 ± 4.38\n",
      "CDl2: 3.21 ± 1.30\n",
      "EMD: 0.00 ± 0.00\n"
     ]
    }
   ],
   "source": [
    "file_path = \"GrNet_easy_Noise_0.2.csv\"\n",
    "data = pd.read_csv(file_path)\n",
    "mean_values = data.mean()\n",
    "std_dev_values = data.std()\n",
    "\n",
    "for column in data.columns:\n",
    "    print(f\"{column}: {mean_values[column]:.2f} ± {std_dev_values[column]:.2f}\")"
   ]
  },
  {
   "cell_type": "code",
   "execution_count": 19,
   "metadata": {},
   "outputs": [
    {
     "name": "stdout",
     "output_type": "stream",
     "text": [
      "F-score: 0.07 ± 0.01\n",
      "CDl1: 23.30 ± 1.40\n",
      "CDl2: 1.33 ± 0.26\n",
      "EMD: 0.00 ± 0.00\n"
     ]
    }
   ],
   "source": [
    "file_path = \"topNet_easy.csv\"\n",
    "data = pd.read_csv(file_path)\n",
    "mean_values = data.mean()\n",
    "std_dev_values = data.std()\n",
    "\n",
    "for column in data.columns:\n",
    "    print(f\"{column}: {mean_values[column]:.2f} ± {std_dev_values[column]:.2f}\")"
   ]
  },
  {
   "cell_type": "code",
   "execution_count": 22,
   "metadata": {},
   "outputs": [
    {
     "name": "stdout",
     "output_type": "stream",
     "text": [
      "F-score: 0.05 ± 0.01\n",
      "CDl1: 26.04 ± 1.29\n",
      "CDl2: 1.73 ± 0.29\n",
      "EMD: 0.00 ± 0.00\n"
     ]
    }
   ],
   "source": [
    "file_path = \"TopNet_easyso3_z_z.csv\"\n",
    "data = pd.read_csv(file_path)\n",
    "mean_values = data.mean()\n",
    "std_dev_values = data.std()\n",
    "\n",
    "for column in data.columns:\n",
    "    print(f\"{column}: {mean_values[column]:.2f} ± {std_dev_values[column]:.2f}\")\n"
   ]
  },
  {
   "cell_type": "code",
   "execution_count": 23,
   "metadata": {},
   "outputs": [
    {
     "name": "stdout",
     "output_type": "stream",
     "text": [
      "F-score: 0.04 ± 0.01\n",
      "CDl1: 46.74 ± 8.85\n",
      "CDl2: 10.69 ± 5.07\n",
      "EMD: 0.00 ± 0.00\n"
     ]
    }
   ],
   "source": [
    "file_path = \"TopNet_easyso3_z_so3.csv\"\n",
    "data = pd.read_csv(file_path)\n",
    "mean_values = data.mean()\n",
    "std_dev_values = data.std()\n",
    "\n",
    "for column in data.columns:\n",
    "    print(f\"{column}: {mean_values[column]:.2f} ± {std_dev_values[column]:.2f}\")"
   ]
  },
  {
   "cell_type": "code",
   "execution_count": null,
   "metadata": {},
   "outputs": [
    {
     "name": "stdout",
     "output_type": "stream",
     "text": [
      "F-score: 0.04 ± 0.00\n",
      "CDl1: 30.91 ± 2.66\n",
      "CDl2: 2.71 ± 0.74\n",
      "EMD: 0.00 ± 0.00\n"
     ]
    }
   ],
   "source": [
    "file_path = \"TopNet_easy_Noise_0.1.csv\"\n",
    "data = pd.read_csv(file_path)\n",
    "mean_values = data.mean()\n",
    "std_dev_values = data.std()\n",
    "\n",
    "for column in data.columns:\n",
    "    print(f\"{column}: {mean_values[column]:.2f} ± {std_dev_values[column]:.2f}\")"
   ]
  },
  {
   "cell_type": "code",
   "execution_count": 41,
   "metadata": {},
   "outputs": [
    {
     "name": "stdout",
     "output_type": "stream",
     "text": [
      "F-score: 0.04 ± 0.00\n",
      "CDl1: 35.18 ± 3.54\n",
      "CDl2: 4.04 ± 1.28\n",
      "EMD: 0.00 ± 0.00\n"
     ]
    }
   ],
   "source": [
    "file_path = \"TopNet_easy_Noise_0.2.csv\"\n",
    "data = pd.read_csv(file_path)\n",
    "mean_values = data.mean()\n",
    "std_dev_values = data.std()\n",
    "\n",
    "for column in data.columns:\n",
    "    print(f\"{column}: {mean_values[column]:.2f} ± {std_dev_values[column]:.2f}\")"
   ]
  },
  {
   "cell_type": "code",
   "execution_count": null,
   "metadata": {},
   "outputs": [],
   "source": []
  }
 ],
 "metadata": {
  "kernelspec": {
   "display_name": "point3",
   "language": "python",
   "name": "python3"
  },
  "language_info": {
   "codemirror_mode": {
    "name": "ipython",
    "version": 3
   },
   "file_extension": ".py",
   "mimetype": "text/x-python",
   "name": "python",
   "nbconvert_exporter": "python",
   "pygments_lexer": "ipython3",
   "version": "3.7.12"
  }
 },
 "nbformat": 4,
 "nbformat_minor": 2
}
