{
 "cells": [
  {
   "cell_type": "code",
   "execution_count": 5,
   "metadata": {},
   "outputs": [],
   "source": [
    "import pandas as pd"
   ]
  },
  {
   "cell_type": "code",
   "execution_count": 8,
   "metadata": {},
   "outputs": [
    {
     "name": "stdout",
     "output_type": "stream",
     "text": [
      "F-score: 0.07 ± 0.01\n",
      "CDl1: 22.91 ± 1.56\n",
      "CDl2: 1.31 ± 0.33\n",
      "EMD: 0.00 ± 0.00\n"
     ]
    }
   ],
   "source": [
    "file_path = \"pcn_easy.csv\"\n",
    "data = pd.read_csv(file_path)\n",
    "mean_values = data.mean()\n",
    "std_dev_values = data.std()\n",
    "\n",
    "for column in data.columns:\n",
    "    print(f\"{column}: {mean_values[column]:.2f} ± {std_dev_values[column]:.2f}\")"
   ]
  },
  {
   "cell_type": "code",
   "execution_count": 9,
   "metadata": {},
   "outputs": [
    {
     "name": "stdout",
     "output_type": "stream",
     "text": [
      "F-score: 0.06 ± 0.01\n",
      "CDl1: 23.23 ± 1.45\n",
      "CDl2: 1.33 ± 0.28\n",
      "EMD: 0.00 ± 0.00\n"
     ]
    }
   ],
   "source": [
    "file_path = \"PCN_easy_Noise_0.01.csv\"\n",
    "data = pd.read_csv(file_path)\n",
    "mean_values = data.mean()\n",
    "std_dev_values = data.std()\n",
    "\n",
    "for column in data.columns:\n",
    "    print(f\"{column}: {mean_values[column]:.2f} ± {std_dev_values[column]:.2f}\")"
   ]
  },
  {
   "cell_type": "code",
   "execution_count": 10,
   "metadata": {},
   "outputs": [
    {
     "name": "stdout",
     "output_type": "stream",
     "text": [
      "F-score: 0.05 ± 0.01\n",
      "CDl1: 26.92 ± 1.87\n",
      "CDl2: 2.00 ± 0.46\n",
      "EMD: 0.00 ± 0.00\n"
     ]
    }
   ],
   "source": [
    "file_path = \"PCN_easy_Noise_0.05.csv\"\n",
    "data = pd.read_csv(file_path)\n",
    "mean_values = data.mean()\n",
    "std_dev_values = data.std()\n",
    "\n",
    "for column in data.columns:\n",
    "    print(f\"{column}: {mean_values[column]:.2f} ± {std_dev_values[column]:.2f}\")"
   ]
  },
  {
   "cell_type": "code",
   "execution_count": 11,
   "metadata": {},
   "outputs": [
    {
     "name": "stdout",
     "output_type": "stream",
     "text": [
      "F-score: 0.04 ± 0.00\n",
      "CDl1: 32.47 ± 3.59\n",
      "CDl2: 3.39 ± 1.14\n",
      "EMD: 0.00 ± 0.00\n"
     ]
    }
   ],
   "source": [
    "file_path = \"PCN_easy_Noise_0.1.csv\"\n",
    "data = pd.read_csv(file_path)\n",
    "mean_values = data.mean()\n",
    "std_dev_values = data.std()\n",
    "\n",
    "for column in data.columns:\n",
    "    print(f\"{column}: {mean_values[column]:.2f} ± {std_dev_values[column]:.2f}\")"
   ]
  },
  {
   "cell_type": "code",
   "execution_count": 12,
   "metadata": {},
   "outputs": [
    {
     "name": "stdout",
     "output_type": "stream",
     "text": [
      "F-score: 0.03 ± 0.00\n",
      "CDl1: 42.20 ± 6.83\n",
      "CDl2: 6.89 ± 3.04\n",
      "EMD: 0.00 ± 0.00\n"
     ]
    }
   ],
   "source": [
    "file_path = \"PCN_easy_Noise_0.2.csv\"\n",
    "data = pd.read_csv(file_path)\n",
    "mean_values = data.mean()\n",
    "std_dev_values = data.std()\n",
    "\n",
    "for column in data.columns:\n",
    "    print(f\"{column}: {mean_values[column]:.2f} ± {std_dev_values[column]:.2f}\")"
   ]
  },
  {
   "cell_type": "code",
   "execution_count": 43,
   "metadata": {},
   "outputs": [
    {
     "name": "stdout",
     "output_type": "stream",
     "text": [
      "CDl2: 0.68 ± 0.12\n",
      "CDl1: 9.35 ± 2.36\n",
      "F-score: 0.44 ± 0.13\n",
      "EMD: 0.00 ± 0.00\n"
     ]
    }
   ],
   "source": [
    "file_path = \"AdaPointr_easy.csv\"\n",
    "data = pd.read_csv(file_path)\n",
    "mean_values = data.mean()\n",
    "std_dev_values = data.std()\n",
    "\n",
    "for column in data.columns:\n",
    "    print(f\"{column}: {mean_values[column]:.2f} ± {std_dev_values[column]:.2f}\")"
   ]
  },
  {
   "cell_type": "code",
   "execution_count": 14,
   "metadata": {},
   "outputs": [
    {
     "name": "stdout",
     "output_type": "stream",
     "text": [
      "F-score: 0.36 ± 0.08\n",
      "CDl1: 14.99 ± 1.35\n",
      "CDl2: 0.65 ± 0.08\n",
      "EMD: 0.00 ± 0.00\n"
     ]
    }
   ],
   "source": [
    "file_path = \"AdaPointr_easy_Noise_0.01.csv\"\n",
    "data = pd.read_csv(file_path)\n",
    "mean_values = data.mean()\n",
    "std_dev_values = data.std()\n",
    "\n",
    "for column in data.columns:\n",
    "    print(f\"{column}: {mean_values[column]:.2f} ± {std_dev_values[column]:.2f}\")"
   ]
  },
  {
   "cell_type": "code",
   "execution_count": 15,
   "metadata": {},
   "outputs": [
    {
     "name": "stdout",
     "output_type": "stream",
     "text": [
      "F-score: 0.05 ± 0.01\n",
      "CDl1: 30.22 ± 2.25\n",
      "CDl2: 2.43 ± 0.42\n",
      "EMD: 0.00 ± 0.00\n"
     ]
    }
   ],
   "source": [
    "file_path = \"AdaPointr_easy_Noise_0.05.csv\"\n",
    "data = pd.read_csv(file_path)\n",
    "mean_values = data.mean()\n",
    "std_dev_values = data.std()\n",
    "\n",
    "for column in data.columns:\n",
    "    print(f\"{column}: {mean_values[column]:.2f} ± {std_dev_values[column]:.2f}\")"
   ]
  },
  {
   "cell_type": "code",
   "execution_count": 16,
   "metadata": {},
   "outputs": [
    {
     "name": "stdout",
     "output_type": "stream",
     "text": [
      "F-score: 0.03 ± 0.00\n",
      "CDl1: 39.55 ± 3.80\n",
      "CDl2: 5.07 ± 1.27\n",
      "EMD: 0.00 ± 0.00\n"
     ]
    }
   ],
   "source": [
    "file_path = \"AdaPointr_easy_Noise_0.1.csv\"\n",
    "data = pd.read_csv(file_path)\n",
    "mean_values = data.mean()\n",
    "std_dev_values = data.std()\n",
    "\n",
    "for column in data.columns:\n",
    "    print(f\"{column}: {mean_values[column]:.2f} ± {std_dev_values[column]:.2f}\")"
   ]
  },
  {
   "cell_type": "code",
   "execution_count": 17,
   "metadata": {},
   "outputs": [
    {
     "name": "stdout",
     "output_type": "stream",
     "text": [
      "F-score: 0.03 ± 0.00\n",
      "CDl1: 47.90 ± 5.35\n",
      "CDl2: 9.06 ± 2.58\n",
      "EMD: 0.00 ± 0.00\n"
     ]
    }
   ],
   "source": [
    "file_path = \"AdaPointr_easy_Noise_0.2.csv\"\n",
    "data = pd.read_csv(file_path)\n",
    "mean_values = data.mean()\n",
    "std_dev_values = data.std()\n",
    "\n",
    "for column in data.columns:\n",
    "    print(f\"{column}: {mean_values[column]:.2f} ± {std_dev_values[column]:.2f}\")"
   ]
  },
  {
   "cell_type": "code",
   "execution_count": 42,
   "metadata": {},
   "outputs": [
    {
     "name": "stdout",
     "output_type": "stream",
     "text": [
      "F-score: 0.28 ± 0.01\n",
      "CDl1: 18.63 ± 0.89\n",
      "CDl2: 1.13 ± 0.19\n",
      "EMD: 0.00 ± 0.00\n"
     ]
    }
   ],
   "source": [
    "file_path = \"Pointr_easy.csv\"\n",
    "data = pd.read_csv(file_path)\n",
    "mean_values = data.mean()\n",
    "std_dev_values = data.std()\n",
    "\n",
    "for column in data.columns:\n",
    "    print(f\"{column}: {mean_values[column]:.2f} ± {std_dev_values[column]:.2f}\")"
   ]
  },
  {
   "cell_type": "code",
   "execution_count": 18,
   "metadata": {},
   "outputs": [
    {
     "name": "stdout",
     "output_type": "stream",
     "text": [
      "F-score: 0.10 ± 0.01\n",
      "CDl1: 21.93 ± 0.75\n",
      "CDl2: 1.17 ± 0.09\n",
      "EMD: 0.00 ± 0.00\n"
     ]
    }
   ],
   "source": [
    "file_path = \"PoinTr_easy_Noise_0.01.csv\"\n",
    "data = pd.read_csv(file_path)\n",
    "mean_values = data.mean()\n",
    "std_dev_values = data.std()\n",
    "\n",
    "for column in data.columns:\n",
    "    print(f\"{column}: {mean_values[column]:.2f} ± {std_dev_values[column]:.2f}\")"
   ]
  },
  {
   "cell_type": "code",
   "execution_count": 19,
   "metadata": {},
   "outputs": [
    {
     "name": "stdout",
     "output_type": "stream",
     "text": [
      "F-score: 0.05 ± 0.01\n",
      "CDl1: 26.54 ± 0.89\n",
      "CDl2: 1.79 ± 0.18\n",
      "EMD: 0.00 ± 0.00\n"
     ]
    }
   ],
   "source": [
    "file_path = \"PoinTr_easy_Noise_0.05.csv\"\n",
    "data = pd.read_csv(file_path)\n",
    "mean_values = data.mean()\n",
    "std_dev_values = data.std()\n",
    "\n",
    "for column in data.columns:\n",
    "    print(f\"{column}: {mean_values[column]:.2f} ± {std_dev_values[column]:.2f}\")"
   ]
  },
  {
   "cell_type": "code",
   "execution_count": 20,
   "metadata": {},
   "outputs": [
    {
     "name": "stdout",
     "output_type": "stream",
     "text": [
      "F-score: 0.05 ± 0.00\n",
      "CDl1: 30.37 ± 1.50\n",
      "CDl2: 2.72 ± 0.47\n",
      "EMD: 0.00 ± 0.00\n"
     ]
    }
   ],
   "source": [
    "file_path = \"PoinTr_easy_Noise_0.1.csv\"\n",
    "data = pd.read_csv(file_path)\n",
    "mean_values = data.mean()\n",
    "std_dev_values = data.std()\n",
    "\n",
    "for column in data.columns:\n",
    "    print(f\"{column}: {mean_values[column]:.2f} ± {std_dev_values[column]:.2f}\")"
   ]
  },
  {
   "cell_type": "code",
   "execution_count": null,
   "metadata": {},
   "outputs": [
    {
     "name": "stdout",
     "output_type": "stream",
     "text": [
      "F-score: 0.04 ± 0.00\n",
      "CDl1: 35.03 ± 2.66\n",
      "CDl2: 4.31 ± 1.08\n",
      "EMD: 0.00 ± 0.00\n"
     ]
    }
   ],
   "source": [
    "file_path = \"PoinTr_easy_Noise_0.2.csv\"\n",
    "data = pd.read_csv(file_path)\n",
    "mean_values = data.mean()\n",
    "std_dev_values = data.std()\n",
    "\n",
    "for column in data.columns:\n",
    "    print(f\"{column}: {mean_values[column]:.2f} ± {std_dev_values[column]:.2f}\")"
   ]
  },
  {
   "cell_type": "code",
   "execution_count": 36,
   "metadata": {},
   "outputs": [
    {
     "name": "stdout",
     "output_type": "stream",
     "text": [
      "F-score: 0.04 ± 0.01\n",
      "CDl1: 77.07 ± 6.55\n",
      "CDl2: 24.01 ± 4.72\n",
      "EMD: 0.00 ± 0.00\n"
     ]
    }
   ],
   "source": [
    "file_path = \"FoldingNet_easy.csv\"\n",
    "data = pd.read_csv(file_path)\n",
    "mean_values = data.mean()\n",
    "std_dev_values = data.std()\n",
    "\n",
    "for column in data.columns:\n",
    "    print(f\"{column}: {mean_values[column]:.2f} ± {std_dev_values[column]:.2f}\")"
   ]
  },
  {
   "cell_type": "code",
   "execution_count": 37,
   "metadata": {},
   "outputs": [
    {
     "name": "stdout",
     "output_type": "stream",
     "text": [
      "F-score: 0.04 ± 0.01\n",
      "CDl1: 74.58 ± 5.19\n",
      "CDl2: 22.56 ± 3.51\n",
      "EMD: 0.00 ± 0.00\n"
     ]
    }
   ],
   "source": [
    "file_path = \"FoldingNet_easy_Noise_0.01.csv\"\n",
    "data = pd.read_csv(file_path)\n",
    "mean_values = data.mean()\n",
    "std_dev_values = data.std()\n",
    "\n",
    "for column in data.columns:\n",
    "    print(f\"{column}: {mean_values[column]:.2f} ± {std_dev_values[column]:.2f}\")"
   ]
  },
  {
   "cell_type": "code",
   "execution_count": 24,
   "metadata": {},
   "outputs": [
    {
     "name": "stdout",
     "output_type": "stream",
     "text": [
      "F-score: 0.04 ± 0.01\n",
      "CDl1: 80.65 ± 8.14\n",
      "CDl2: 26.95 ± 5.96\n",
      "EMD: 0.00 ± 0.00\n"
     ]
    }
   ],
   "source": [
    "file_path = \"FoldingNet_easy_Noise_0.05.csv\"\n",
    "data = pd.read_csv(file_path)\n",
    "mean_values = data.mean()\n",
    "std_dev_values = data.std()\n",
    "\n",
    "for column in data.columns:\n",
    "    print(f\"{column}: {mean_values[column]:.2f} ± {std_dev_values[column]:.2f}\")"
   ]
  },
  {
   "cell_type": "code",
   "execution_count": 25,
   "metadata": {},
   "outputs": [
    {
     "name": "stdout",
     "output_type": "stream",
     "text": [
      "F-score: 0.03 ± 0.01\n",
      "CDl1: 94.07 ± 15.37\n",
      "CDl2: 36.58 ± 11.87\n",
      "EMD: 0.00 ± 0.00\n"
     ]
    }
   ],
   "source": [
    "file_path = \"FoldingNet_easy_Noise_0.1.csv\"\n",
    "data = pd.read_csv(file_path)\n",
    "mean_values = data.mean()\n",
    "std_dev_values = data.std()\n",
    "\n",
    "for column in data.columns:\n",
    "    print(f\"{column}: {mean_values[column]:.2f} ± {std_dev_values[column]:.2f}\")"
   ]
  },
  {
   "cell_type": "code",
   "execution_count": 26,
   "metadata": {},
   "outputs": [
    {
     "name": "stdout",
     "output_type": "stream",
     "text": [
      "F-score: 0.03 ± 0.01\n",
      "CDl1: 122.63 ± 30.84\n",
      "CDl2: 61.95 ± 28.06\n",
      "EMD: 0.00 ± 0.00\n"
     ]
    }
   ],
   "source": [
    "file_path = \"FoldingNet_easy_Noise_0.2.csv\"\n",
    "data = pd.read_csv(file_path)\n",
    "mean_values = data.mean()\n",
    "std_dev_values = data.std()\n",
    "\n",
    "for column in data.columns:\n",
    "    print(f\"{column}: {mean_values[column]:.2f} ± {std_dev_values[column]:.2f}\")"
   ]
  },
  {
   "cell_type": "code",
   "execution_count": 31,
   "metadata": {},
   "outputs": [
    {
     "name": "stdout",
     "output_type": "stream",
     "text": [
      "F-score: 0.07 ± 0.01\n",
      "CDl1: 23.15 ± 1.45\n",
      "CDl2: 1.33 ± 0.27\n",
      "EMD: 0.00 ± 0.00\n"
     ]
    }
   ],
   "source": [
    "file_path = \"grNet_easy.csv\"\n",
    "data = pd.read_csv(file_path)\n",
    "mean_values = data.mean()\n",
    "std_dev_values = data.std()\n",
    "\n",
    "for column in data.columns:\n",
    "    print(f\"{column}: {mean_values[column]:.2f} ± {std_dev_values[column]:.2f}\")"
   ]
  },
  {
   "cell_type": "code",
   "execution_count": 27,
   "metadata": {},
   "outputs": [
    {
     "name": "stdout",
     "output_type": "stream",
     "text": [
      "F-score: 0.07 ± 0.01\n",
      "CDl1: 23.69 ± 1.17\n",
      "CDl2: 1.36 ± 0.18\n",
      "EMD: 0.00 ± 0.00\n"
     ]
    }
   ],
   "source": [
    "file_path = \"GrNet_easy_Noise_0.01.csv\"\n",
    "data = pd.read_csv(file_path)\n",
    "mean_values = data.mean()\n",
    "std_dev_values = data.std()\n",
    "\n",
    "for column in data.columns:\n",
    "    print(f\"{column}: {mean_values[column]:.2f} ± {std_dev_values[column]:.2f}\")"
   ]
  },
  {
   "cell_type": "code",
   "execution_count": 28,
   "metadata": {},
   "outputs": [
    {
     "name": "stdout",
     "output_type": "stream",
     "text": [
      "F-score: 0.06 ± 0.01\n",
      "CDl1: 25.37 ± 1.56\n",
      "CDl2: 1.62 ± 0.28\n",
      "EMD: 0.00 ± 0.00\n"
     ]
    }
   ],
   "source": [
    "file_path = \"GrNet_easy_Noise_0.05.csv\"\n",
    "data = pd.read_csv(file_path)\n",
    "mean_values = data.mean()\n",
    "std_dev_values = data.std()\n",
    "\n",
    "for column in data.columns:\n",
    "    print(f\"{column}: {mean_values[column]:.2f} ± {std_dev_values[column]:.2f}\")"
   ]
  },
  {
   "cell_type": "code",
   "execution_count": 29,
   "metadata": {},
   "outputs": [
    {
     "name": "stdout",
     "output_type": "stream",
     "text": [
      "F-score: 0.06 ± 0.01\n",
      "CDl1: 27.27 ± 2.53\n",
      "CDl2: 2.04 ± 0.55\n",
      "EMD: 0.00 ± 0.00\n"
     ]
    }
   ],
   "source": [
    "file_path = \"GrNet_easy_Noise_0.1.csv\"\n",
    "data = pd.read_csv(file_path)\n",
    "mean_values = data.mean()\n",
    "std_dev_values = data.std()\n",
    "\n",
    "for column in data.columns:\n",
    "    print(f\"{column}: {mean_values[column]:.2f} ± {std_dev_values[column]:.2f}\")"
   ]
  },
  {
   "cell_type": "code",
   "execution_count": 30,
   "metadata": {},
   "outputs": [
    {
     "name": "stdout",
     "output_type": "stream",
     "text": [
      "F-score: 0.05 ± 0.01\n",
      "CDl1: 31.25 ± 4.38\n",
      "CDl2: 3.21 ± 1.30\n",
      "EMD: 0.00 ± 0.00\n"
     ]
    }
   ],
   "source": [
    "file_path = \"GrNet_easy_Noise_0.2.csv\"\n",
    "data = pd.read_csv(file_path)\n",
    "mean_values = data.mean()\n",
    "std_dev_values = data.std()\n",
    "\n",
    "for column in data.columns:\n",
    "    print(f\"{column}: {mean_values[column]:.2f} ± {std_dev_values[column]:.2f}\")"
   ]
  },
  {
   "cell_type": "code",
   "execution_count": 32,
   "metadata": {},
   "outputs": [
    {
     "name": "stdout",
     "output_type": "stream",
     "text": [
      "F-score: 0.07 ± 0.01\n",
      "CDl1: 23.30 ± 1.40\n",
      "CDl2: 1.33 ± 0.26\n",
      "EMD: 0.00 ± 0.00\n"
     ]
    }
   ],
   "source": [
    "file_path = \"topNet_easy.csv\"\n",
    "data = pd.read_csv(file_path)\n",
    "mean_values = data.mean()\n",
    "std_dev_values = data.std()\n",
    "\n",
    "for column in data.columns:\n",
    "    print(f\"{column}: {mean_values[column]:.2f} ± {std_dev_values[column]:.2f}\")"
   ]
  },
  {
   "cell_type": "code",
   "execution_count": 38,
   "metadata": {},
   "outputs": [
    {
     "name": "stdout",
     "output_type": "stream",
     "text": [
      "F-score: 0.07 ± 0.01\n",
      "CDl1: 22.87 ± 1.30\n",
      "CDl2: 1.26 ± 0.19\n",
      "EMD: 0.00 ± 0.00\n"
     ]
    }
   ],
   "source": [
    "file_path = \"TopNet_easy_Noise_0.01.csv\"\n",
    "data = pd.read_csv(file_path)\n",
    "mean_values = data.mean()\n",
    "std_dev_values = data.std()\n",
    "\n",
    "for column in data.columns:\n",
    "    print(f\"{column}: {mean_values[column]:.2f} ± {std_dev_values[column]:.2f}\")"
   ]
  },
  {
   "cell_type": "code",
   "execution_count": 39,
   "metadata": {},
   "outputs": [
    {
     "name": "stdout",
     "output_type": "stream",
     "text": [
      "F-score: 0.05 ± 0.01\n",
      "CDl1: 26.46 ± 1.59\n",
      "CDl2: 1.76 ± 0.32\n",
      "EMD: 0.00 ± 0.00\n"
     ]
    }
   ],
   "source": [
    "file_path = \"TopNet_easy_Noise_0.05.csv\"\n",
    "data = pd.read_csv(file_path)\n",
    "mean_values = data.mean()\n",
    "std_dev_values = data.std()\n",
    "\n",
    "for column in data.columns:\n",
    "    print(f\"{column}: {mean_values[column]:.2f} ± {std_dev_values[column]:.2f}\")"
   ]
  },
  {
   "cell_type": "code",
   "execution_count": 40,
   "metadata": {},
   "outputs": [
    {
     "name": "stdout",
     "output_type": "stream",
     "text": [
      "F-score: 0.04 ± 0.00\n",
      "CDl1: 30.91 ± 2.66\n",
      "CDl2: 2.71 ± 0.74\n",
      "EMD: 0.00 ± 0.00\n"
     ]
    }
   ],
   "source": [
    "file_path = \"TopNet_easy_Noise_0.1.csv\"\n",
    "data = pd.read_csv(file_path)\n",
    "mean_values = data.mean()\n",
    "std_dev_values = data.std()\n",
    "\n",
    "for column in data.columns:\n",
    "    print(f\"{column}: {mean_values[column]:.2f} ± {std_dev_values[column]:.2f}\")"
   ]
  },
  {
   "cell_type": "code",
   "execution_count": 41,
   "metadata": {},
   "outputs": [
    {
     "name": "stdout",
     "output_type": "stream",
     "text": [
      "F-score: 0.04 ± 0.00\n",
      "CDl1: 35.18 ± 3.54\n",
      "CDl2: 4.04 ± 1.28\n",
      "EMD: 0.00 ± 0.00\n"
     ]
    }
   ],
   "source": [
    "file_path = \"TopNet_easy_Noise_0.2.csv\"\n",
    "data = pd.read_csv(file_path)\n",
    "mean_values = data.mean()\n",
    "std_dev_values = data.std()\n",
    "\n",
    "for column in data.columns:\n",
    "    print(f\"{column}: {mean_values[column]:.2f} ± {std_dev_values[column]:.2f}\")"
   ]
  },
  {
   "cell_type": "code",
   "execution_count": null,
   "metadata": {},
   "outputs": [],
   "source": []
  }
 ],
 "metadata": {
  "kernelspec": {
   "display_name": "point3",
   "language": "python",
   "name": "python3"
  },
  "language_info": {
   "codemirror_mode": {
    "name": "ipython",
    "version": 3
   },
   "file_extension": ".py",
   "mimetype": "text/x-python",
   "name": "python",
   "nbconvert_exporter": "python",
   "pygments_lexer": "ipython3",
   "version": "3.7.12"
  }
 },
 "nbformat": 4,
 "nbformat_minor": 2
}
