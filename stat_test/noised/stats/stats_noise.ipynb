{
 "cells": [
  {
   "cell_type": "code",
   "execution_count": 1,
   "metadata": {},
   "outputs": [],
   "source": [
    "import pandas as pd"
   ]
  },
  {
   "cell_type": "code",
   "execution_count": 8,
   "metadata": {},
   "outputs": [
    {
     "name": "stdout",
     "output_type": "stream",
     "text": [
      "F-score: 0.07 ± 0.01\n",
      "CDl1: 22.91 ± 1.56\n",
      "CDl2: 1.31 ± 0.33\n",
      "EMD: 0.00 ± 0.00\n"
     ]
    }
   ],
   "source": [
    "file_path = \"pcn_easy.csv\"\n",
    "data = pd.read_csv(file_path)\n",
    "mean_values = data.mean()\n",
    "std_dev_values = data.std()\n",
    "\n",
    "for column in data.columns:\n",
    "    print(f\"{column}: {mean_values[column]:.2f} ± {std_dev_values[column]:.2f}\")"
   ]
  },
  {
   "cell_type": "code",
   "execution_count": 18,
   "metadata": {},
   "outputs": [
    {
     "name": "stdout",
     "output_type": "stream",
     "text": [
      "F-score: 0.06 ± 0.01\n",
      "CDl1: 23.06 ± 1.57\n",
      "CDl2: 1.33 ± 0.34\n",
      "EMD: 0.00 ± 0.00\n"
     ]
    }
   ],
   "source": [
    "file_path = \"PCN_easy_Noised_0.01.csv\"\n",
    "data = pd.read_csv(file_path)\n",
    "mean_values = data.mean()\n",
    "std_dev_values = data.std()\n",
    "\n",
    "for column in data.columns:\n",
    "    print(f\"{column}: {mean_values[column]:.2f} ± {std_dev_values[column]:.2f}\")"
   ]
  },
  {
   "cell_type": "code",
   "execution_count": 19,
   "metadata": {},
   "outputs": [
    {
     "name": "stdout",
     "output_type": "stream",
     "text": [
      "F-score: 0.05 ± 0.01\n",
      "CDl1: 25.45 ± 1.85\n",
      "CDl2: 1.73 ± 0.45\n",
      "EMD: 0.00 ± 0.00\n"
     ]
    }
   ],
   "source": [
    "file_path = \"PCN_easy_Noised_0.05.csv\"\n",
    "data = pd.read_csv(file_path)\n",
    "mean_values = data.mean()\n",
    "std_dev_values = data.std()\n",
    "\n",
    "for column in data.columns:\n",
    "    print(f\"{column}: {mean_values[column]:.2f} ± {std_dev_values[column]:.2f}\")"
   ]
  },
  {
   "cell_type": "code",
   "execution_count": 20,
   "metadata": {},
   "outputs": [
    {
     "name": "stdout",
     "output_type": "stream",
     "text": [
      "F-score: 0.05 ± 0.01\n",
      "CDl1: 29.84 ± 3.23\n",
      "CDl2: 2.72 ± 0.94\n",
      "EMD: 0.00 ± 0.00\n"
     ]
    }
   ],
   "source": [
    "file_path = \"PCN_easy_Noised_0.1.csv\"\n",
    "data = pd.read_csv(file_path)\n",
    "mean_values = data.mean()\n",
    "std_dev_values = data.std()\n",
    "\n",
    "for column in data.columns:\n",
    "    print(f\"{column}: {mean_values[column]:.2f} ± {std_dev_values[column]:.2f}\")"
   ]
  },
  {
   "cell_type": "code",
   "execution_count": 21,
   "metadata": {},
   "outputs": [
    {
     "name": "stdout",
     "output_type": "stream",
     "text": [
      "F-score: 0.04 ± 0.01\n",
      "CDl1: 37.62 ± 6.02\n",
      "CDl2: 5.22 ± 2.39\n",
      "EMD: 0.00 ± 0.00\n"
     ]
    }
   ],
   "source": [
    "file_path = \"PCN_easy_Noised_0.2.csv\"\n",
    "data = pd.read_csv(file_path)\n",
    "mean_values = data.mean()\n",
    "std_dev_values = data.std()\n",
    "\n",
    "for column in data.columns:\n",
    "    print(f\"{column}: {mean_values[column]:.2f} ± {std_dev_values[column]:.2f}\")"
   ]
  },
  {
   "cell_type": "code",
   "execution_count": 3,
   "metadata": {},
   "outputs": [
    {
     "name": "stdout",
     "output_type": "stream",
     "text": [
      "CDl2: 0.68 ± 0.12\n",
      "CDl1: 9.35 ± 2.36\n",
      "F-score: 0.44 ± 0.13\n",
      "EMD: 0.00 ± 0.00\n"
     ]
    }
   ],
   "source": [
    "file_path = \"AdaPointr_easy.csv\"\n",
    "data = pd.read_csv(file_path)\n",
    "mean_values = data.mean()\n",
    "std_dev_values = data.std()\n",
    "\n",
    "for column in data.columns:\n",
    "    print(f\"{column}: {mean_values[column]:.2f} ± {std_dev_values[column]:.2f}\")"
   ]
  },
  {
   "cell_type": "code",
   "execution_count": 5,
   "metadata": {},
   "outputs": [
    {
     "name": "stdout",
     "output_type": "stream",
     "text": [
      "F-score: 0.33 ± 0.09\n",
      "CDl1: 15.55 ± 1.61\n",
      "CDl2: 0.69 ± 0.13\n",
      "EMD: 0.00 ± 0.00\n"
     ]
    }
   ],
   "source": [
    "file_path = \"AdaPoinTr600E_easy_Noised_0.01.csv\"\n",
    "data = pd.read_csv(file_path)\n",
    "mean_values = data.mean()\n",
    "std_dev_values = data.std()\n",
    "\n",
    "for column in data.columns:\n",
    "    print(f\"{column}: {mean_values[column]:.2f} ± {std_dev_values[column]:.2f}\")"
   ]
  },
  {
   "cell_type": "code",
   "execution_count": 6,
   "metadata": {},
   "outputs": [
    {
     "name": "stdout",
     "output_type": "stream",
     "text": [
      "F-score: 0.05 ± 0.01\n",
      "CDl1: 29.24 ± 2.12\n",
      "CDl2: 2.29 ± 0.41\n",
      "EMD: 0.00 ± 0.00\n"
     ]
    }
   ],
   "source": [
    "file_path = \"AdaPoinTr600E_easy_Noised_0.05.csv\"\n",
    "data = pd.read_csv(file_path)\n",
    "mean_values = data.mean()\n",
    "std_dev_values = data.std()\n",
    "\n",
    "for column in data.columns:\n",
    "    print(f\"{column}: {mean_values[column]:.2f} ± {std_dev_values[column]:.2f}\")"
   ]
  },
  {
   "cell_type": "code",
   "execution_count": 7,
   "metadata": {},
   "outputs": [
    {
     "name": "stdout",
     "output_type": "stream",
     "text": [
      "F-score: 0.04 ± 0.01\n",
      "CDl1: 37.47 ± 3.56\n",
      "CDl2: 4.54 ± 1.14\n",
      "EMD: 0.00 ± 0.00\n"
     ]
    }
   ],
   "source": [
    "file_path = \"AdaPoinTr600E_easy_Noised_0.1.csv\"\n",
    "data = pd.read_csv(file_path)\n",
    "mean_values = data.mean()\n",
    "std_dev_values = data.std()\n",
    "\n",
    "for column in data.columns:\n",
    "    print(f\"{column}: {mean_values[column]:.2f} ± {std_dev_values[column]:.2f}\")"
   ]
  },
  {
   "cell_type": "code",
   "execution_count": 8,
   "metadata": {},
   "outputs": [
    {
     "name": "stdout",
     "output_type": "stream",
     "text": [
      "F-score: 0.03 ± 0.00\n",
      "CDl1: 45.25 ± 5.10\n",
      "CDl2: 8.08 ± 2.36\n",
      "EMD: 0.00 ± 0.00\n"
     ]
    }
   ],
   "source": [
    "file_path = \"AdaPoinTr600E_easy_Noised_0.2.csv\"\n",
    "data = pd.read_csv(file_path)\n",
    "mean_values = data.mean()\n",
    "std_dev_values = data.std()\n",
    "\n",
    "for column in data.columns:\n",
    "    print(f\"{column}: {mean_values[column]:.2f} ± {std_dev_values[column]:.2f}\")"
   ]
  },
  {
   "cell_type": "code",
   "execution_count": null,
   "metadata": {},
   "outputs": [
    {
     "name": "stdout",
     "output_type": "stream",
     "text": [
      "F-score: 0.33 ± 0.09\n",
      "CDl1: 15.55 ± 1.61\n",
      "CDl2: 0.69 ± 0.13\n",
      "EMD: 0.00 ± 0.00\n"
     ]
    }
   ],
   "source": [
    "file_path = \"AdaPoinTr600E_easy_Noised_0.01.csv\" #model trained only 50 epoch\n",
    "data = pd.read_csv(file_path)\n",
    "mean_values = data.mean()\n",
    "std_dev_values = data.std()\n",
    "\n",
    "for column in data.columns:\n",
    "    print(f\"{column}: {mean_values[column]:.2f} ± {std_dev_values[column]:.2f}\")"
   ]
  },
  {
   "cell_type": "code",
   "execution_count": null,
   "metadata": {},
   "outputs": [
    {
     "name": "stdout",
     "output_type": "stream",
     "text": [
      "F-score: 0.05 ± 0.01\n",
      "CDl1: 28.39 ± 2.07\n",
      "CDl2: 2.14 ± 0.38\n",
      "EMD: 0.00 ± 0.00\n"
     ]
    }
   ],
   "source": [
    "file_path = \"AdaPoinTr_easy_Noised_0.05.csv\" \n",
    "data = pd.read_csv(file_path)\n",
    "mean_values = data.mean()\n",
    "std_dev_values = data.std()\n",
    "\n",
    "for column in data.columns:\n",
    "    print(f\"{column}: {mean_values[column]:.2f} ± {std_dev_values[column]:.2f}\")"
   ]
  },
  {
   "cell_type": "code",
   "execution_count": 11,
   "metadata": {},
   "outputs": [
    {
     "name": "stdout",
     "output_type": "stream",
     "text": [
      "F-score: 0.04 ± 0.00\n",
      "CDl1: 36.35 ± 3.45\n",
      "CDl2: 4.29 ± 1.06\n",
      "EMD: 0.00 ± 0.00\n"
     ]
    }
   ],
   "source": [
    "file_path = \"AdaPoinTr_easy_Noised_0.1.csv\"\n",
    "data = pd.read_csv(file_path)\n",
    "mean_values = data.mean()\n",
    "std_dev_values = data.std()\n",
    "\n",
    "for column in data.columns:\n",
    "    print(f\"{column}: {mean_values[column]:.2f} ± {std_dev_values[column]:.2f}\")"
   ]
  },
  {
   "cell_type": "code",
   "execution_count": 12,
   "metadata": {},
   "outputs": [
    {
     "name": "stdout",
     "output_type": "stream",
     "text": [
      "F-score: 0.03 ± 0.00\n",
      "CDl1: 44.05 ± 4.98\n",
      "CDl2: 7.77 ± 2.27\n",
      "EMD: 0.00 ± 0.00\n"
     ]
    }
   ],
   "source": [
    "file_path = \"AdaPoinTr_easy_Noised_0.2.csv\"\n",
    "data = pd.read_csv(file_path)\n",
    "mean_values = data.mean()\n",
    "std_dev_values = data.std()\n",
    "\n",
    "for column in data.columns:\n",
    "    print(f\"{column}: {mean_values[column]:.2f} ± {std_dev_values[column]:.2f}\")"
   ]
  },
  {
   "cell_type": "code",
   "execution_count": null,
   "metadata": {},
   "outputs": [],
   "source": [
    "file_path = \"AdaPoinTr_easy_Noised_0.01.csv\"\n",
    "data = pd.read_csv(file_path)\n",
    "mean_values = data.mean()\n",
    "std_dev_values = data.std()\n",
    "\n",
    "for column in data.columns:\n",
    "    print(f\"{column}: {mean_values[column]:.2f} ± {std_dev_values[column]:.2f}\")"
   ]
  },
  {
   "cell_type": "code",
   "execution_count": 42,
   "metadata": {},
   "outputs": [
    {
     "name": "stdout",
     "output_type": "stream",
     "text": [
      "F-score: 0.28 ± 0.01\n",
      "CDl1: 18.63 ± 0.89\n",
      "CDl2: 1.13 ± 0.19\n",
      "EMD: 0.00 ± 0.00\n"
     ]
    }
   ],
   "source": [
    "file_path = \"Pointr_easy.csv\"\n",
    "data = pd.read_csv(file_path)\n",
    "mean_values = data.mean()\n",
    "std_dev_values = data.std()\n",
    "\n",
    "for column in data.columns:\n",
    "    print(f\"{column}: {mean_values[column]:.2f} ± {std_dev_values[column]:.2f}\")"
   ]
  },
  {
   "cell_type": "code",
   "execution_count": 22,
   "metadata": {},
   "outputs": [
    {
     "name": "stdout",
     "output_type": "stream",
     "text": [
      "F-score: 0.10 ± 0.01\n",
      "CDl1: 22.16 ± 0.91\n",
      "CDl2: 1.25 ± 0.19\n",
      "EMD: 0.00 ± 0.00\n"
     ]
    }
   ],
   "source": [
    "file_path = \"PoinTr_easy_Noised_0.01.csv\"\n",
    "data = pd.read_csv(file_path)\n",
    "mean_values = data.mean()\n",
    "std_dev_values = data.std()\n",
    "\n",
    "for column in data.columns:\n",
    "    print(f\"{column}: {mean_values[column]:.2f} ± {std_dev_values[column]:.2f}\")"
   ]
  },
  {
   "cell_type": "code",
   "execution_count": 23,
   "metadata": {},
   "outputs": [
    {
     "name": "stdout",
     "output_type": "stream",
     "text": [
      "F-score: 0.06 ± 0.01\n",
      "CDl1: 26.06 ± 0.95\n",
      "CDl2: 1.74 ± 0.22\n",
      "EMD: 0.00 ± 0.00\n"
     ]
    }
   ],
   "source": [
    "file_path = \"PoinTr_easy_Noised_0.05.csv\"\n",
    "data = pd.read_csv(file_path)\n",
    "mean_values = data.mean()\n",
    "std_dev_values = data.std()\n",
    "\n",
    "for column in data.columns:\n",
    "    print(f\"{column}: {mean_values[column]:.2f} ± {std_dev_values[column]:.2f}\")"
   ]
  },
  {
   "cell_type": "code",
   "execution_count": 24,
   "metadata": {},
   "outputs": [
    {
     "name": "stdout",
     "output_type": "stream",
     "text": [
      "F-score: 0.05 ± 0.01\n",
      "CDl1: 29.10 ± 1.44\n",
      "CDl2: 2.42 ± 0.41\n",
      "EMD: 0.00 ± 0.00\n"
     ]
    }
   ],
   "source": [
    "file_path = \"PoinTr_easy_Noised_0.1.csv\"\n",
    "data = pd.read_csv(file_path)\n",
    "mean_values = data.mean()\n",
    "std_dev_values = data.std()\n",
    "\n",
    "for column in data.columns:\n",
    "    print(f\"{column}: {mean_values[column]:.2f} ± {std_dev_values[column]:.2f}\")"
   ]
  },
  {
   "cell_type": "code",
   "execution_count": 25,
   "metadata": {},
   "outputs": [
    {
     "name": "stdout",
     "output_type": "stream",
     "text": [
      "F-score: 0.05 ± 0.01\n",
      "CDl1: 33.31 ± 2.38\n",
      "CDl2: 3.74 ± 0.87\n",
      "EMD: 0.00 ± 0.00\n"
     ]
    }
   ],
   "source": [
    "file_path = \"PoinTr_easy_Noised_0.2.csv\"\n",
    "data = pd.read_csv(file_path)\n",
    "mean_values = data.mean()\n",
    "std_dev_values = data.std()\n",
    "\n",
    "for column in data.columns:\n",
    "    print(f\"{column}: {mean_values[column]:.2f} ± {std_dev_values[column]:.2f}\")"
   ]
  },
  {
   "cell_type": "code",
   "execution_count": 3,
   "metadata": {},
   "outputs": [
    {
     "name": "stdout",
     "output_type": "stream",
     "text": [
      "F-score: 0.04 ± 0.01\n",
      "CDl1: 77.07 ± 6.55\n",
      "CDl2: 24.01 ± 4.72\n",
      "EMD: 0.00 ± 0.00\n"
     ]
    }
   ],
   "source": [
    "file_path = \"FoldingNet_easy.csv\"\n",
    "data = pd.read_csv(file_path)\n",
    "mean_values = data.mean()\n",
    "std_dev_values = data.std()\n",
    "\n",
    "for column in data.columns:\n",
    "    print(f\"{column}: {mean_values[column]:.2f} ± {std_dev_values[column]:.2f}\")"
   ]
  },
  {
   "cell_type": "code",
   "execution_count": 4,
   "metadata": {},
   "outputs": [
    {
     "name": "stdout",
     "output_type": "stream",
     "text": [
      "F-score: 0.04 ± 0.01\n",
      "CDl1: 77.21 ± 6.79\n",
      "CDl2: 24.16 ± 4.88\n",
      "EMD: 0.00 ± 0.00\n"
     ]
    }
   ],
   "source": [
    "file_path = \"FoldingNet_easy_Noised_0.01.csv\"\n",
    "data = pd.read_csv(file_path)\n",
    "mean_values = data.mean()\n",
    "std_dev_values = data.std()\n",
    "\n",
    "for column in data.columns:\n",
    "    print(f\"{column}: {mean_values[column]:.2f} ± {std_dev_values[column]:.2f}\")"
   ]
  },
  {
   "cell_type": "code",
   "execution_count": 5,
   "metadata": {},
   "outputs": [
    {
     "name": "stdout",
     "output_type": "stream",
     "text": [
      "F-score: 0.04 ± 0.01\n",
      "CDl1: 82.02 ± 8.69\n",
      "CDl2: 27.54 ± 6.39\n",
      "EMD: 0.00 ± 0.00\n"
     ]
    }
   ],
   "source": [
    "file_path = \"FoldingNet_easy_Noised_0.05.csv\"\n",
    "data = pd.read_csv(file_path)\n",
    "mean_values = data.mean()\n",
    "std_dev_values = data.std()\n",
    "\n",
    "for column in data.columns:\n",
    "    print(f\"{column}: {mean_values[column]:.2f} ± {std_dev_values[column]:.2f}\")"
   ]
  },
  {
   "cell_type": "code",
   "execution_count": 6,
   "metadata": {},
   "outputs": [
    {
     "name": "stdout",
     "output_type": "stream",
     "text": [
      "F-score: 0.03 ± 0.01\n",
      "CDl1: 92.84 ± 14.61\n",
      "CDl2: 35.96 ± 12.02\n",
      "EMD: 0.00 ± 0.00\n"
     ]
    }
   ],
   "source": [
    "file_path = \"FoldingNet_easy_Noised_0.1.csv\"\n",
    "data = pd.read_csv(file_path)\n",
    "mean_values = data.mean()\n",
    "std_dev_values = data.std()\n",
    "\n",
    "for column in data.columns:\n",
    "    print(f\"{column}: {mean_values[column]:.2f} ± {std_dev_values[column]:.2f}\")"
   ]
  },
  {
   "cell_type": "code",
   "execution_count": 7,
   "metadata": {},
   "outputs": [
    {
     "name": "stdout",
     "output_type": "stream",
     "text": [
      "F-score: 0.03 ± 0.01\n",
      "CDl1: 117.49 ± 31.23\n",
      "CDl2: 58.54 ± 30.72\n",
      "EMD: 0.00 ± 0.00\n"
     ]
    }
   ],
   "source": [
    "file_path = \"FoldingNet_easy_Noised_0.2.csv\"\n",
    "data = pd.read_csv(file_path)\n",
    "mean_values = data.mean()\n",
    "std_dev_values = data.std()\n",
    "\n",
    "for column in data.columns:\n",
    "    print(f\"{column}: {mean_values[column]:.2f} ± {std_dev_values[column]:.2f}\")"
   ]
  },
  {
   "cell_type": "code",
   "execution_count": 31,
   "metadata": {},
   "outputs": [
    {
     "name": "stdout",
     "output_type": "stream",
     "text": [
      "F-score: 0.07 ± 0.01\n",
      "CDl1: 23.15 ± 1.45\n",
      "CDl2: 1.33 ± 0.27\n",
      "EMD: 0.00 ± 0.00\n"
     ]
    }
   ],
   "source": [
    "file_path = \"grNet_easy.csv\"\n",
    "data = pd.read_csv(file_path)\n",
    "mean_values = data.mean()\n",
    "std_dev_values = data.std()\n",
    "\n",
    "for column in data.columns:\n",
    "    print(f\"{column}: {mean_values[column]:.2f} ± {std_dev_values[column]:.2f}\")"
   ]
  },
  {
   "cell_type": "code",
   "execution_count": 14,
   "metadata": {},
   "outputs": [
    {
     "name": "stdout",
     "output_type": "stream",
     "text": [
      "F-score: 0.07 ± 0.01\n",
      "CDl1: 23.26 ± 1.45\n",
      "CDl2: 1.34 ± 0.27\n",
      "EMD: 0.00 ± 0.00\n"
     ]
    }
   ],
   "source": [
    "file_path = \"GRNet_easy_Noised_0.01.csv\"\n",
    "data = pd.read_csv(file_path)\n",
    "mean_values = data.mean()\n",
    "std_dev_values = data.std()\n",
    "\n",
    "for column in data.columns:\n",
    "    print(f\"{column}: {mean_values[column]:.2f} ± {std_dev_values[column]:.2f}\")"
   ]
  },
  {
   "cell_type": "code",
   "execution_count": 15,
   "metadata": {},
   "outputs": [
    {
     "name": "stdout",
     "output_type": "stream",
     "text": [
      "F-score: 0.07 ± 0.01\n",
      "CDl1: 24.16 ± 1.52\n",
      "CDl2: 1.47 ± 0.31\n",
      "EMD: 0.00 ± 0.00\n"
     ]
    }
   ],
   "source": [
    "file_path = \"GRNet_easy_Noised_0.05.csv\"\n",
    "data = pd.read_csv(file_path)\n",
    "mean_values = data.mean()\n",
    "std_dev_values = data.std()\n",
    "\n",
    "for column in data.columns:\n",
    "    print(f\"{column}: {mean_values[column]:.2f} ± {std_dev_values[column]:.2f}\")"
   ]
  },
  {
   "cell_type": "code",
   "execution_count": 16,
   "metadata": {},
   "outputs": [
    {
     "name": "stdout",
     "output_type": "stream",
     "text": [
      "F-score: 0.06 ± 0.01\n",
      "CDl1: 25.41 ± 1.93\n",
      "CDl2: 1.72 ± 0.41\n",
      "EMD: 0.00 ± 0.00\n"
     ]
    }
   ],
   "source": [
    "file_path = \"GRNet_easy_Noised_0.1.csv\"\n",
    "data = pd.read_csv(file_path)\n",
    "mean_values = data.mean()\n",
    "std_dev_values = data.std()\n",
    "\n",
    "for column in data.columns:\n",
    "    print(f\"{column}: {mean_values[column]:.2f} ± {std_dev_values[column]:.2f}\")"
   ]
  },
  {
   "cell_type": "code",
   "execution_count": 17,
   "metadata": {},
   "outputs": [
    {
     "name": "stdout",
     "output_type": "stream",
     "text": [
      "F-score: 0.06 ± 0.01\n",
      "CDl1: 28.10 ± 3.01\n",
      "CDl2: 2.42 ± 0.82\n",
      "EMD: 0.00 ± 0.00\n"
     ]
    }
   ],
   "source": [
    "file_path = \"GRNet_easy_Noised_0.2.csv\"\n",
    "data = pd.read_csv(file_path)\n",
    "mean_values = data.mean()\n",
    "std_dev_values = data.std()\n",
    "\n",
    "for column in data.columns:\n",
    "    print(f\"{column}: {mean_values[column]:.2f} ± {std_dev_values[column]:.2f}\")"
   ]
  },
  {
   "cell_type": "code",
   "execution_count": 26,
   "metadata": {},
   "outputs": [
    {
     "name": "stdout",
     "output_type": "stream",
     "text": [
      "F-score: 0.07 ± 0.01\n",
      "CDl1: 23.30 ± 1.40\n",
      "CDl2: 1.33 ± 0.26\n",
      "EMD: 0.00 ± 0.00\n"
     ]
    }
   ],
   "source": [
    "file_path = \"topNet_easy.csv\"\n",
    "data = pd.read_csv(file_path)\n",
    "mean_values = data.mean()\n",
    "std_dev_values = data.std()\n",
    "\n",
    "for column in data.columns:\n",
    "    print(f\"{column}: {mean_values[column]:.2f} ± {std_dev_values[column]:.2f}\")"
   ]
  },
  {
   "cell_type": "code",
   "execution_count": 27,
   "metadata": {},
   "outputs": [
    {
     "name": "stdout",
     "output_type": "stream",
     "text": [
      "F-score: 0.07 ± 0.01\n",
      "CDl1: 23.27 ± 1.41\n",
      "CDl2: 1.32 ± 0.25\n",
      "EMD: 0.00 ± 0.00\n"
     ]
    }
   ],
   "source": [
    "file_path = \"TopNet_easy_Noised_0.01.csv\"\n",
    "data = pd.read_csv(file_path)\n",
    "mean_values = data.mean()\n",
    "std_dev_values = data.std()\n",
    "\n",
    "for column in data.columns:\n",
    "    print(f\"{column}: {mean_values[column]:.2f} ± {std_dev_values[column]:.2f}\")"
   ]
  },
  {
   "cell_type": "code",
   "execution_count": 10,
   "metadata": {},
   "outputs": [
    {
     "name": "stdout",
     "output_type": "stream",
     "text": [
      "F-score: 0.06 ± 0.01\n",
      "CDl1: 25.32 ± 1.49\n",
      "CDl2: 1.60 ± 0.30\n",
      "EMD: 0.00 ± 0.00\n"
     ]
    }
   ],
   "source": [
    "file_path = \"TopNet_easy_Noised_0.05.csv\"\n",
    "data = pd.read_csv(file_path)\n",
    "mean_values = data.mean()\n",
    "std_dev_values = data.std()\n",
    "\n",
    "for column in data.columns:\n",
    "    print(f\"{column}: {mean_values[column]:.2f} ± {std_dev_values[column]:.2f}\")"
   ]
  },
  {
   "cell_type": "code",
   "execution_count": 11,
   "metadata": {},
   "outputs": [
    {
     "name": "stdout",
     "output_type": "stream",
     "text": [
      "F-score: 0.05 ± 0.00\n",
      "CDl1: 29.07 ± 2.45\n",
      "CDl2: 2.34 ± 0.64\n",
      "EMD: 0.00 ± 0.00\n"
     ]
    }
   ],
   "source": [
    "file_path = \"TopNet_easy_Noised_0.1.csv\"\n",
    "data = pd.read_csv(file_path)\n",
    "mean_values = data.mean()\n",
    "std_dev_values = data.std()\n",
    "\n",
    "for column in data.columns:\n",
    "    print(f\"{column}: {mean_values[column]:.2f} ± {std_dev_values[column]:.2f}\")"
   ]
  },
  {
   "cell_type": "code",
   "execution_count": 12,
   "metadata": {},
   "outputs": [
    {
     "name": "stdout",
     "output_type": "stream",
     "text": [
      "F-score: 0.04 ± 0.00\n",
      "CDl1: 33.22 ± 3.44\n",
      "CDl2: 3.52 ± 1.16\n",
      "EMD: 0.00 ± 0.00\n"
     ]
    }
   ],
   "source": [
    "file_path = \"TopNet_easy_Noised_0.2.csv\"\n",
    "data = pd.read_csv(file_path)\n",
    "mean_values = data.mean()\n",
    "std_dev_values = data.std()\n",
    "\n",
    "for column in data.columns:\n",
    "    print(f\"{column}: {mean_values[column]:.2f} ± {std_dev_values[column]:.2f}\")"
   ]
  },
  {
   "cell_type": "code",
   "execution_count": null,
   "metadata": {},
   "outputs": [],
   "source": []
  }
 ],
 "metadata": {
  "kernelspec": {
   "display_name": "point3",
   "language": "python",
   "name": "python3"
  },
  "language_info": {
   "codemirror_mode": {
    "name": "ipython",
    "version": 3
   },
   "file_extension": ".py",
   "mimetype": "text/x-python",
   "name": "python",
   "nbconvert_exporter": "python",
   "pygments_lexer": "ipython3",
   "version": "3.7.12"
  }
 },
 "nbformat": 4,
 "nbformat_minor": 2
}
