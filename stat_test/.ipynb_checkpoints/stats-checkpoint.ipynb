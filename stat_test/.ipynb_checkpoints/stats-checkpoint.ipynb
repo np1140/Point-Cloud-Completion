{
 "cells": [
  {
   "cell_type": "code",
   "execution_count": 5,
   "id": "f581e781-8dfa-4c94-9dc7-03250024c47d",
   "metadata": {},
   "outputs": [
    {
     "name": "stdout",
     "output_type": "stream",
     "text": [
      "Average Metrics: [0.614893699186992, 10.490953252032526, 0.525433130081301, 0.0]\n"
     ]
    }
   ],
   "source": [
    "import re\n",
    "\n",
    "# Initialize a list to hold all metric lists\n",
    "all_metrics = []\n",
    "\n",
    "# Define a regular expression pattern to extract the Metrics list\n",
    "metrics_pattern = r\"Metrics\\s*=\\s*\\[(.*?)\\]\"\n",
    "\n",
    "# Open and read the log file\n",
    "with open(\"20240706_143348.log\", \"r\") as file:\n",
    "    for line in file:\n",
    "        # Search for the Metrics list in the line\n",
    "        match = re.search(metrics_pattern, line)\n",
    "        if match:\n",
    "            # Extract and split the Metrics list into individual strings\n",
    "            metrics = match.group(1).split(\",\")\n",
    "            # Convert the strings to floats after stripping unwanted characters\n",
    "            metrics = [float(x.strip().strip(\"'\")) for x in metrics]\n",
    "            print(metrics)\n",
    "            # Append the metrics list to the all_metrics list\n",
    "            all_metrics.append(metrics)\n",
    "\n",
    "# Calculate the average for each metric\n",
    "if all_metrics:\n",
    "    avg_metrics = [sum(metric) / len(all_metrics) for metric in zip(*all_metrics)]\n",
    "    print(\"Average Metrics:\", avg_metrics)\n",
    "else:\n",
    "    print(\"No Metrics found in the log file.\")\n"
   ]
  },
  {
   "cell_type": "code",
   "execution_count": null,
   "id": "e499463a-9e81-491f-b066-f4f85c039e32",
   "metadata": {},
   "outputs": [],
   "source": []
  }
 ],
 "metadata": {
  "kernelspec": {
   "display_name": "Python 3 (ipykernel)",
   "language": "python",
   "name": "python3"
  },
  "language_info": {
   "codemirror_mode": {
    "name": "ipython",
    "version": 3
   },
   "file_extension": ".py",
   "mimetype": "text/x-python",
   "name": "python",
   "nbconvert_exporter": "python",
   "pygments_lexer": "ipython3",
   "version": "3.8.19"
  }
 },
 "nbformat": 4,
 "nbformat_minor": 5
}
